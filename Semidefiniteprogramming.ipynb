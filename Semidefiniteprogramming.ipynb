{
  "nbformat": 4,
  "nbformat_minor": 0,
  "metadata": {
    "colab": {
      "provenance": [],
      "authorship_tag": "ABX9TyPxHB1bwM6WuLzLNaIESpbm",
      "include_colab_link": true
    },
    "kernelspec": {
      "name": "python3",
      "display_name": "Python 3"
    },
    "language_info": {
      "name": "python"
    }
  },
  "cells": [
    {
      "cell_type": "markdown",
      "metadata": {
        "id": "view-in-github",
        "colab_type": "text"
      },
      "source": [
        "<a href=\"https://colab.research.google.com/github/lacerdamj/posit_poly_control/blob/main/Semidefiniteprogramming.ipynb\" target=\"_parent\"><img src=\"https://colab.research.google.com/assets/colab-badge.svg\" alt=\"Open In Colab\"/></a>"
      ]
    },
    {
      "cell_type": "markdown",
      "source": [
        "# **Positive Polynomials in Control**\n",
        "\n",
        "\n",
        "*Written by Márcio J. Lacerda*"
      ],
      "metadata": {
        "id": "AkKMhoi6yCUk"
      }
    },
    {
      "cell_type": "code",
      "execution_count": null,
      "metadata": {
        "id": "j4Axdialx-gr"
      },
      "outputs": [],
      "source": [
        "! git clone https://gitlab.com/picos-api/picos\n",
        "#! pip install picos --use-feature=in-tree-build\n",
        "\n",
        "!pip install picos/\n",
        "\n",
        "\n",
        "import picos as pc\n",
        "import numpy as np"
      ]
    },
    {
      "cell_type": "markdown",
      "source": [
        "#Semidefinite programming"
      ],
      "metadata": {
        "id": "BwlW8oJ_Q_Pm"
      }
    },
    {
      "cell_type": "code",
      "source": [
        "import cvxopt\n",
        "cvxopt.setseed(1)\n",
        "\n",
        "C = np.array([[2, 1],[1,0]])\n",
        "b1=1\n",
        "\n",
        "sdp = pc.Problem()\n",
        "\n",
        "#Variables\n",
        "X = pc.SymmetricVariable(\"X\", (2,2))\n",
        "\n",
        "#LMI constraints\n",
        "sdp.add_constraint(X >> 0)\n",
        "sdp.add_constraint(pc.trace(X) == b1)\n",
        "\n",
        "#Objective\n",
        "G=pc.trace(C.T*X)\n",
        "sdp.set_objective('min',G)\n",
        "\n",
        "#Show the LMIs\n",
        "print(sdp)\n",
        "\n",
        "#Solve the problem\n",
        "sdp.options.solver = \"cvxopt\"\n",
        "sol=sdp.solve(verbosity = 1)\n",
        "\n",
        "#recovering the solution\n",
        "Xs = X.value\n",
        "\n",
        "print (\"The value of X is\",Xs)\n",
        "print(sol)\n",
        "\n",
        "\n",
        "#Number of variables\n",
        "Nov=sum(x.dim for x in sdp.variables.values())\n",
        "\n",
        "print(\"The number of scalar decision variables is\", Nov )\n",
        "\n",
        "print(\"The value of the minimized cost function is\",G)"
      ],
      "metadata": {
        "colab": {
          "base_uri": "https://localhost:8080/"
        },
        "id": "-yP6V_1jyFau",
        "outputId": "c15fbb51-a5d7-48e7-8548-2201856f40c1"
      },
      "execution_count": null,
      "outputs": [
        {
          "output_type": "stream",
          "name": "stdout",
          "text": [
            "Semidefinite Program\n",
            "  minimize tr([2×2]·X)\n",
            "  over\n",
            "    2×2 symmetric variable X\n",
            "  subject to\n",
            "    X ≽ 0\n",
            "    tr(X) = 1\n",
            "===================================\n",
            "             PICOS 2.4             \n",
            "===================================\n",
            "Problem type: Semidefinite Program.\n",
            "Searching a solution strategy for CVXOPT.\n",
            "Solution strategy:\n",
            "  1. ExtraOptions\n",
            "  2. CVXOPTSolver\n",
            "Applying ExtraOptions.\n",
            "Building a CVXOPT problem instance.\n",
            "Starting solution search.\n",
            "-----------------------------------\n",
            " Python Convex Optimization Solver \n",
            "    via internal CONELP solver     \n",
            "-----------------------------------\n",
            "     pcost       dcost       gap    pres   dres   k/t\n",
            " 0:  1.0000e+00  1.0000e+00  2e+00  2e-16  1e+00  1e+00\n",
            " 1: -3.7258e-01 -3.6562e-01  1e-01  5e-16  7e-02  6e-02\n",
            " 2: -4.1378e-01 -4.1371e-01  1e-03  2e-16  7e-04  6e-04\n",
            " 3: -4.1421e-01 -4.1421e-01  1e-05  5e-16  7e-06  6e-06\n",
            " 4: -4.1421e-01 -4.1421e-01  1e-07  1e-16  7e-08  6e-08\n",
            " 5: -4.1421e-01 -4.1421e-01  1e-09  2e-16  7e-10  6e-10\n",
            "Optimal solution found.\n",
            "------------[ CVXOPT ]-------------\n",
            "Solver claims optimal solution for feasible problem.\n",
            "Applying the solution.\n",
            "Applied solution is primal feasible.\n",
            "Search 6.0e-03s, solve 2.7e-02s, overhead 346%.\n",
            "=============[ PICOS ]=============\n",
            "The value of X is [ 1.46e-01 -3.54e-01]\n",
            "[-3.54e-01  8.54e-01]\n",
            "\n",
            "primal feasible solution pair (claimed optimal) from cvxopt\n",
            "The number of scalar decision variables is 3\n",
            "The value of the minimized cost function is -0.4142135619379196\n"
          ]
        }
      ]
    }
  ]
}