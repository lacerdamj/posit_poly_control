{
  "nbformat": 4,
  "nbformat_minor": 0,
  "metadata": {
    "colab": {
      "provenance": [],
      "authorship_tag": "ABX9TyPW9Cs22fUJup3hnk1VJqe+",
      "include_colab_link": true
    },
    "kernelspec": {
      "name": "python3",
      "display_name": "Python 3"
    },
    "language_info": {
      "name": "python"
    }
  },
  "cells": [
    {
      "cell_type": "markdown",
      "metadata": {
        "id": "view-in-github",
        "colab_type": "text"
      },
      "source": [
        "<a href=\"https://colab.research.google.com/github/lacerdamj/posit_poly_control/blob/main/LinearProgramming.ipynb\" target=\"_parent\"><img src=\"https://colab.research.google.com/assets/colab-badge.svg\" alt=\"Open In Colab\"/></a>"
      ]
    },
    {
      "cell_type": "markdown",
      "source": [
        "# **Positive Polynomials in Control**\n",
        "\n",
        "\n",
        "*Written by Márcio J. Lacerda*"
      ],
      "metadata": {
        "id": "TlXoPZnY4av8"
      }
    },
    {
      "cell_type": "code",
      "execution_count": null,
      "metadata": {
        "id": "WXsBvhCz4Wz9"
      },
      "outputs": [],
      "source": [
        "! git clone https://gitlab.com/picos-api/picos\n",
        "#! pip install picos --use-feature=in-tree-build\n",
        "\n",
        "!pip install picos/\n",
        "\n",
        "\n",
        "import picos as pc\n",
        "import numpy as np\n"
      ]
    },
    {
      "cell_type": "markdown",
      "source": [
        "Problem 1"
      ],
      "metadata": {
        "id": "ggU5-osF7zkz"
      }
    },
    {
      "cell_type": "code",
      "source": [
        "import cvxopt\n",
        "cvxopt.setseed(1)\n",
        "\n",
        "sdp = pc.Problem()\n",
        "\n",
        "#Variables\n",
        "x1 = pc.RealVariable(\"x1\")\n",
        "x2 = pc.RealVariable(\"x2\")\n",
        "\n",
        "\n",
        "#LMI constraints\n",
        "sdp.add_constraint(3*x1+x2 >= 3)\n",
        "sdp.add_constraint(x2 >= 1)\n",
        "sdp.add_constraint(x1 <= 4)\n",
        "sdp.add_constraint(-x1+5*x2 <= 20)\n",
        "sdp.add_constraint(x1+4*x2 <= 20)\n",
        "\n",
        "#Objective function\n",
        "G=x1+x2\n",
        "sdp.set_objective('min',G)\n",
        "\n",
        "#Show the LMIs\n",
        "print(sdp)\n",
        "\n",
        "\n",
        "#Solve the problem\n",
        "sdp.options.solver = \"cvxopt\"\n",
        "sol=sdp.solve(verbosity = 1)\n",
        "\n",
        "x1s = x1.value\n",
        "x2s = x2.value\n",
        "\n",
        "#np.set_printoptions(precision=4)\n",
        "\n",
        "print (\"The value of x1 is\",x1s)\n",
        "print (\"The value of x2 is\",x2s)\n",
        "print(sol)\n",
        "\n",
        "#Number of variables\n",
        "Nov=sum(x.dim for x in sdp.variables.values())\n",
        "\n",
        "print(\"The number of scalar decision variables is\", Nov )\n"
      ],
      "metadata": {
        "colab": {
          "base_uri": "https://localhost:8080/"
        },
        "id": "zE3Cn7Kj7050",
        "outputId": "44ade33b-2b6b-49de-c87a-9f785a24206e"
      },
      "execution_count": 2,
      "outputs": [
        {
          "output_type": "stream",
          "name": "stdout",
          "text": [
            "Linear Program\n",
            "  minimize x1 + x2\n",
            "  over\n",
            "    1×1 real variable xi+1 ∀ i ∈ [0…1]\n",
            "  subject to\n",
            "    3·x1 + x2 ≥ 3\n",
            "    x2 ≥ 1\n",
            "    x1 ≤ 4\n",
            "    -x1 + 5·x2 ≤ 20\n",
            "    x1 + 4·x2 ≤ 20\n",
            "===================================\n",
            "             PICOS 2.4             \n",
            "===================================\n",
            "Problem type: Linear Program.\n",
            "Searching a solution strategy for CVXOPT.\n",
            "Solution strategy:\n",
            "  1. ExtraOptions\n",
            "  2. CVXOPTSolver\n",
            "Applying ExtraOptions.\n",
            "Building a CVXOPT problem instance.\n",
            "Starting solution search.\n",
            "-----------------------------------\n",
            " Python Convex Optimization Solver \n",
            "    via internal CONELP solver     \n",
            "-----------------------------------\n",
            "     pcost       dcost       gap    pres   dres   k/t\n",
            " 0:  4.6348e+00 -4.1693e+01  2e+01  2e-01  6e+00  1e+00\n",
            " 1:  4.0550e+00  6.1579e-01  1e+00  1e-02  5e-01  3e-01\n",
            " 2:  3.0077e+00 -3.9586e+00  7e+00  3e-02  1e+00  1e+00\n",
            " 3:  1.7812e+00  8.9089e-01  8e-01  3e-03  1e-01  9e-02\n",
            " 4:  1.6678e+00  1.6524e+00  1e-02  5e-05  2e-03  2e-03\n",
            " 5:  1.6667e+00  1.6665e+00  1e-04  5e-07  2e-05  2e-05\n",
            " 6:  1.6667e+00  1.6667e+00  1e-06  5e-09  2e-07  2e-07\n",
            " 7:  1.6667e+00  1.6667e+00  1e-08  5e-11  2e-09  2e-09\n",
            "Optimal solution found.\n",
            "------------[ CVXOPT ]-------------\n",
            "Solver claims optimal solution for feasible problem.\n",
            "Applying the solution.\n",
            "Applied solution is primal feasible.\n",
            "Search 2.5e-02s, solve 3.8e-02s, overhead 49%.\n",
            "=============[ PICOS ]=============\n",
            "The value of x1 is 0.6666666663293311\n",
            "The value of x2 is 1.0000000014879384\n",
            "primal feasible solution pair (claimed optimal) from cvxopt\n",
            "The number of scalar decision variables is 2\n"
          ]
        }
      ]
    },
    {
      "cell_type": "markdown",
      "source": [
        "Problem 2"
      ],
      "metadata": {
        "id": "Bfewv_ba71WJ"
      }
    },
    {
      "cell_type": "code",
      "source": [
        "import cvxopt\n",
        "cvxopt.setseed(1)\n",
        "\n",
        "sdp = pc.Problem()\n",
        "\n",
        "#Variables\n",
        "x1 = pc.RealVariable(\"x1\")\n",
        "x2 = pc.RealVariable(\"x2\")\n",
        "\n",
        "\n",
        "#LMI constraints\n",
        "sdp.add_constraint(x1+x2 << 4)\n",
        "sdp.add_constraint(x1 << 2)\n",
        "sdp.add_constraint(x2 << 3)\n",
        "sdp.add_constraint(x1 >> 0)\n",
        "sdp.add_constraint(x2 >> 0)\n",
        "\n",
        "#Objective function\n",
        "F=x1+2*x2\n",
        "sdp.set_objective('max',F)\n",
        "\n",
        "#Show the LMIs\n",
        "print(sdp)\n",
        "\n",
        "#Solve the problem\n",
        "sdp.options.solver = \"cvxopt\"\n",
        "sol=sdp.solve(verbosity = 1)\n",
        "\n",
        "x1s = x1.value\n",
        "x2s = x2.value\n",
        "\n",
        "\n",
        "print (\"The value of x1 is\",x1s)\n",
        "print (\"The value of x2 is\",x2s)\n",
        "print(sol)\n",
        "\n",
        "\n",
        "#Number of variables\n",
        "Nov=sum(x.dim for x in sdp.variables.values())\n",
        "\n",
        "print(\"The number of scalar decision variables is\", Nov )\n"
      ],
      "metadata": {
        "colab": {
          "base_uri": "https://localhost:8080/"
        },
        "id": "dPurJemq5G-V",
        "outputId": "ff71d2d3-829b-4ab4-e447-ee41269f48f1"
      },
      "execution_count": 3,
      "outputs": [
        {
          "output_type": "stream",
          "name": "stdout",
          "text": [
            "Semidefinite Program\n",
            "  maximize x1 + 2·x2\n",
            "  over\n",
            "    1×1 real variable xi+1 ∀ i ∈ [0…1]\n",
            "  subject to\n",
            "    x1 + x2 ≼ 4\n",
            "    x1 ≼ 2\n",
            "    x2 ≼ 3\n",
            "    x1 ≽ 0\n",
            "    x2 ≽ 0\n",
            "===================================\n",
            "             PICOS 2.4             \n",
            "===================================\n",
            "Problem type: Semidefinite Program.\n",
            "Searching a solution strategy for CVXOPT.\n",
            "Solution strategy:\n",
            "  1. ExtraOptions\n",
            "  2. CVXOPTSolver\n",
            "Applying ExtraOptions.\n",
            "Building a CVXOPT problem instance.\n",
            "Starting solution search.\n",
            "-----------------------------------\n",
            " Python Convex Optimization Solver \n",
            "    via internal CONELP solver     \n",
            "-----------------------------------\n",
            "     pcost       dcost       gap    pres   dres   k/t\n",
            " 0: -5.1250e+00 -1.9750e+01  9e+00  0e+00  1e+00  1e+00\n",
            " 1: -6.2735e+00 -7.9913e+00  1e+00  6e-16  1e-01  9e-02\n",
            " 2: -6.9568e+00 -7.1752e+00  1e-01  7e-16  2e-02  2e-02\n",
            " 3: -6.9996e+00 -7.0021e+00  1e-03  3e-16  2e-04  2e-04\n",
            " 4: -7.0000e+00 -7.0000e+00  1e-05  4e-16  2e-06  2e-06\n",
            " 5: -7.0000e+00 -7.0000e+00  1e-07  3e-16  2e-08  2e-08\n",
            " 6: -7.0000e+00 -7.0000e+00  1e-09  3e-16  2e-10  2e-10\n",
            "Optimal solution found.\n",
            "------------[ CVXOPT ]-------------\n",
            "Solver claims optimal solution for feasible problem.\n",
            "Applying the solution.\n",
            "Applied solution is primal feasible.\n",
            "Search 2.8e-02s, solve 5.2e-02s, overhead 88%.\n",
            "=============[ PICOS ]=============\n",
            "The value of x1 is 0.9999999996908612\n",
            "The value of x2 is 2.999999999930695\n",
            "primal feasible solution pair (claimed optimal) from cvxopt\n",
            "The number of scalar decision variables is 2\n"
          ]
        }
      ]
    }
  ]
}